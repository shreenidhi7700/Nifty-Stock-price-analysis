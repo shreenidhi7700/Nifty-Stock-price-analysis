{
 "cells": [
  {
   "cell_type": "markdown",
   "id": "c798839d-b346-4f1b-b020-c5e21ca24b9a",
   "metadata": {},
   "source": [
    "# Time Series Analysis, Visualization & Forecasting with LSTM"
   ]
  },
  {
   "cell_type": "code",
   "execution_count": 1,
   "id": "d61836ff-d45f-4588-9c09-9643769373d9",
   "metadata": {},
   "outputs": [],
   "source": [
    "import numpy as np\n",
    "import pandas as pd\n",
    "import matplotlib.pyplot as plt\n",
    "import seaborn as sns\n",
    "import warnings\n",
    "from time import time\n",
    "from scipy import stats\n",
    "\n",
    "%matplotlib inline\n",
    "pd.set_option('display.float_format', lambda x : '%.4f' % x)"
   ]
  },
  {
   "cell_type": "code",
   "execution_count": null,
   "id": "eb69a252-a581-4aa4-9171-53e0ba5e387a",
   "metadata": {},
   "outputs": [],
   "source": [
    "dt = read_csv('')"
   ]
  }
 ],
 "metadata": {
  "kernelspec": {
   "display_name": "Python 3 (ipykernel)",
   "language": "python",
   "name": "python3"
  },
  "language_info": {
   "codemirror_mode": {
    "name": "ipython",
    "version": 3
   },
   "file_extension": ".py",
   "mimetype": "text/x-python",
   "name": "python",
   "nbconvert_exporter": "python",
   "pygments_lexer": "ipython3",
   "version": "3.11.7"
  }
 },
 "nbformat": 4,
 "nbformat_minor": 5
}
